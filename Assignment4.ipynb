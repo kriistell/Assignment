{
 "metadata": {
  "name": "",
  "signature": "sha256:8a64a82ecc117a5a96dd02c14c77222242cd49458a0fb3c5d0fdab5a3bc2d026"
 },
 "nbformat": 3,
 "nbformat_minor": 0,
 "worksheets": [
  {
   "cells": [
    {
     "cell_type": "code",
     "collapsed": false,
     "input": [
      "print \"Hello World\""
     ],
     "language": "python",
     "metadata": {},
     "outputs": []
    }
   ],
   "metadata": {}
  }
 ]
}